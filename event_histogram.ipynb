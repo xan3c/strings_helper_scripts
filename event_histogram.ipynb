{
  "nbformat": 4,
  "nbformat_minor": 0,
  "metadata": {
    "colab": {
      "name": "event_histogram.ipynb",
      "provenance": []
    },
    "kernelspec": {
      "name": "python3",
      "display_name": "Python 3"
    },
    "language_info": {
      "name": "python"
    }
  },
  "cells": [
    {
      "cell_type": "code",
      "source": [
        "bfrom bs4 import BeautifulSoup\n",
        "import numpy as np\n",
        "import matplotlib\n",
        "import matplotlib.pyplot as plt\n",
        "from matplotlib import pyplot\n",
        "\n"
      ],
      "metadata": {
        "id": "9g7uxJr2FSGZ"
      },
      "execution_count": null,
      "outputs": []
    },
    {
      "cell_type": "code",
      "execution_count": null,
      "metadata": {
        "id": "NTsPhXnG_ZEh"
      },
      "outputs": [],
      "source": [
        "with open('/content/1_7.5TeV_2.txt') as file:\n",
        "    s = file.read()"
      ]
    },
    {
      "cell_type": "code",
      "source": [
        "soup = BeautifulSoup(s, \"html.parser\")\n",
        "events = soup.findAll('event')\n",
        "\n",
        "magnitude = 2500000"
      ],
      "metadata": {
        "id": "_uL6P4LCAVyh"
      },
      "execution_count": null,
      "outputs": []
    },
    {
      "cell_type": "code",
      "source": [
        "total = np.zeros(shape=(magnitude,13))\n",
        "\n",
        "i = 0\n",
        "\n",
        "for event in events:\n",
        "    dummy = str(event).split('\\n')\n",
        "    dummy.pop(0)\n",
        "    dummy.pop(0)\n",
        "    dummy.pop(-1)\n",
        "    dummy.pop(-1)\n",
        "    \n",
        "    for row in dummy:\n",
        "        dummy2 = [s for s in row.split('  ')]\n",
        "        total[i] = dummy2\n",
        "        i += 1\n",
        "        \n",
        "print(i)"
      ],
      "metadata": {
        "colab": {
          "base_uri": "https://localhost:8080/"
        },
        "id": "G8QfVvrCIBsr",
        "outputId": "74645aad-25cd-4c73-858f-f28c17f27cde"
      },
      "execution_count": null,
      "outputs": [
        {
          "output_type": "stream",
          "name": "stdout",
          "text": [
            "480000\n"
          ]
        }
      ]
    },
    {
      "cell_type": "code",
      "source": [
        "total = total[total[:,1] > 0]"
      ],
      "metadata": {
        "id": "qOR78-CEKZz3"
      },
      "execution_count": null,
      "outputs": []
    },
    {
      "cell_type": "code",
      "source": [
        "print(len(total))"
      ],
      "metadata": {
        "colab": {
          "base_uri": "https://localhost:8080/"
        },
        "id": "F7v9ivL7KwpM",
        "outputId": "746b6337-ed8c-4f00-a57d-de3f9af03d5d"
      },
      "execution_count": null,
      "outputs": [
        {
          "output_type": "stream",
          "name": "stdout",
          "text": [
            "240000\n"
          ]
        }
      ]
    },
    {
      "cell_type": "code",
      "source": [
        "masses = []\n",
        "\n",
        "for k in range(len(total)):\n",
        "    if k % 2 == 0:\n",
        "        row = total[k]\n",
        "        \n",
        "        mass_1 = total[k][-3]\n",
        "        mass_2 = total[k+1][-3]\n",
        "\n",
        "        E_1 = total[k][-4]\n",
        "        E_2 = total[k+1][-4]\n",
        "\n",
        "        p_1 = np.array([total[k][6], total[k][7], total[k][8]])\n",
        "        p_2 = np.array([total[k+1][6], total[k+1][7], total[k+1][8]])\n",
        "\n",
        "        invariant_mass_squared = mass_1**2 + mass_2**2 + 2*(E_1*E_2-np.dot(p_1, p_2))\n",
        "        \n",
        "        mass = np.sqrt(invariant_mass_squared)\n",
        "\n",
        "        masses.append(mass)\n",
        "\n",
        "    else:\n",
        "        pass"
      ],
      "metadata": {
        "id": "tdLaw96lN_Ed"
      },
      "execution_count": null,
      "outputs": []
    },
    {
      "cell_type": "code",
      "source": [
        "masses.sort()"
      ],
      "metadata": {
        "id": "ns0PvhB8gJ8V"
      },
      "execution_count": null,
      "outputs": []
    },
    {
      "cell_type": "code",
      "source": [
        "masses = np.array(masses)"
      ],
      "metadata": {
        "id": "x1shlOg5fnZ7"
      },
      "execution_count": null,
      "outputs": []
    },
    {
      "cell_type": "code",
      "source": [
        "print(len(masses))"
      ],
      "metadata": {
        "colab": {
          "base_uri": "https://localhost:8080/"
        },
        "id": "uIFqpWJsIG7Q",
        "outputId": "a05e7115-c564-45f5-cecf-9384cc7c272d"
      },
      "execution_count": null,
      "outputs": [
        {
          "output_type": "stream",
          "name": "stdout",
          "text": [
            "120000\n"
          ]
        }
      ]
    },
    {
      "cell_type": "code",
      "source": [
        "masses = masses/1000 # GeV => TeV"
      ],
      "metadata": {
        "id": "EOqlZgEAPGe-"
      },
      "execution_count": null,
      "outputs": []
    },
    {
      "cell_type": "code",
      "source": [
        "#plt.yscale(\"log\")\n",
        "\n",
        "\n",
        "signal_counts, bins, _ = plt.hist(masses, bins=200)\n",
        "plt.ylabel(\"Number of Events\".format())\n",
        "plt.xlabel(\"Invariant Mass, m, (TeV)\".format())\n",
        "\n",
        "#plt.axvline(x=6.609261377533271, color = 'red')\n",
        "#plt.axvline(x=13, color = 'red')\n",
        "\n",
        "\n",
        "plt.title(\"Number of Events at Each Invariant Mass for 7.5 TeV String Scale , n = 120,000 \")"
      ],
      "metadata": {
        "colab": {
          "base_uri": "https://localhost:8080/",
          "height": 312
        },
        "id": "0-tI-9_oOi4a",
        "outputId": "b0170539-825c-4448-b3bc-571f6cea871e"
      },
      "execution_count": null,
      "outputs": [
        {
          "output_type": "execute_result",
          "data": {
            "text/plain": [
              "Text(0.5, 1.0, 'Number of Events at Each Invariant Mass for 7.5 TeV String Scale , n = 120,000 ')"
            ]
          },
          "metadata": {},
          "execution_count": 237
        },
        {
          "output_type": "display_data",
          "data": {
            "text/plain": [
              "<Figure size 432x288 with 1 Axes>"
            ],
            "image/png": "[encoded data removed]"
          },
          "metadata": {
            "needs_background": "light"
          }
        }
      ]
    },
    {
      "cell_type": "code",
      "source": [
        "print(bins.tolist())"
      ],
      "metadata": {
        "colab": {
          "base_uri": "https://localhost:8080/"
        },
        "id": "sQ84H6WyIafH",
        "outputId": "09d29e1a-5d3e-4e18-fa81-73d2fb6b1a2b"
      },
      "execution_count": null,
      "outputs": [
        {
          "output_type": "stream",
          "name": "stdout",
          "text": [
            "[1.0000096734625161, 1.0447563539712894, 1.0895030344800627, 1.134249714988836, 1.1789963954976093, 1.2237430760063825, 1.2684897565151558, 1.3132364370239291, 1.3579831175327024, 1.4027297980414757, 1.447476478550249, 1.4922231590590223, 1.5369698395677955, 1.5817165200765688, 1.626463200585342, 1.6712098810941154, 1.7159565616028887, 1.760703242111662, 1.8054499226204352, 1.8501966031292085, 1.8949432836379818, 1.939689964146755, 1.9844366446555284, 2.0291833251643014, 2.073930005673075, 2.118676686181848, 2.1634233666906217, 2.2081700471993946, 2.2529167277081683, 2.297663408216941, 2.342410088725715, 2.3871567692344877, 2.4319034497432614, 2.4766501302520343, 2.521396810760808, 2.566143491269581, 2.6108901717783546, 2.6556368522871274, 2.700383532795901, 2.745130213304674, 2.7898768938134477, 2.8346235743222206, 2.8793702548309943, 2.924116935339767, 2.968863615848541, 3.0136102963573137, 3.0583569768660874, 3.1031036573748603, 3.147850337883634, 3.192597018392407, 3.2373436989011806, 3.2820903794099534, 3.326837059918727, 3.3715837404275, 3.4163304209362737, 3.4610771014450465, 3.5058237819538203, 3.550570462462593, 3.595317142971367, 3.6400638234801397, 3.6848105039889134, 3.7295571844976863, 3.77430386500646, 3.819050545515233, 3.8637972260240065, 3.9085439065327794, 3.953290587041553, 3.998037267550326, 4.0427839480591, 4.0875306285678725, 4.132277309076646, 4.177023989585419, 4.221770670094193, 4.266517350602966, 4.311264031111739, 4.356010711620512, 4.400757392129286, 4.445504072638059, 4.4902507531468325, 4.534997433655605, 4.579744114164379, 4.624490794673152, 4.669237475181926, 4.7139841556906985, 4.758730836199472, 4.803477516708245, 4.848224197217019, 4.892970877725792, 4.937717558234565, 4.982464238743338, 5.027210919252112, 5.071957599760886, 5.1167042802696585, 5.161450960778431, 5.206197641287205, 5.250944321795979, 5.295691002304752, 5.3404376828135245, 5.385184363322298, 5.429931043831072, 5.474677724339845, 5.519424404848618, 5.564171085357391, 5.608917765866165, 5.653664446374938, 5.698411126883711, 5.7431578073924845, 5.787904487901258, 5.832651168410031, 5.877397848918804, 5.922144529427578, 5.966891209936351, 6.011637890445124, 6.056384570953897, 6.101131251462671, 6.1458779319714445, 6.190624612480217, 6.23537129298899, 6.280117973497764, 6.324864654006538, 6.3696113345153105, 6.414358015024083, 6.459104695532857, 6.503851376041631, 6.548598056550404, 6.5933447370591765, 6.63809141756795, 6.682838098076724, 6.727584778585497, 6.77233145909427, 6.817078139603043, 6.861824820111817, 6.90657150062059, 6.951318181129363, 6.9960648616381365, 7.04081154214691, 7.085558222655683, 7.130304903164456, 7.17505158367323, 7.219798264182003, 7.264544944690776, 7.309291625199549, 7.354038305708323, 7.3987849862170965, 7.443531666725869, 7.488278347234642, 7.533025027743416, 7.57777170825219, 7.622518388760962, 7.667265069269735, 7.712011749778509, 7.756758430287283, 7.801505110796056, 7.846251791304828, 7.890998471813602, 7.935745152322376, 7.980491832831149, 8.025238513339922, 8.069985193848694, 8.114731874357469, 8.159478554866242, 8.204225235375015, 8.248971915883788, 8.293718596392562, 8.338465276901335, 8.383211957410108, 8.42795863791888, 8.472705318427655, 8.517451998936428, 8.562198679445201, 8.606945359953974, 8.651692040462748, 8.696438720971521, 8.741185401480294, 8.785932081989067, 8.830678762497842, 8.875425443006614, 8.920172123515387, 8.96491880402416, 9.009665484532935, 9.054412165041708, 9.09915884555048, 9.143905526059255, 9.188652206568028, 9.2333988870768, 9.278145567585574, 9.322892248094346, 9.367638928603121, 9.412385609111894, 9.457132289620667, 9.501878970129441, 9.546625650638214, 9.591372331146987, 9.63611901165576, 9.680865692164533, 9.725612372673307, 9.77035905318208, 9.815105733690853, 9.859852414199628, 9.9045990947084, 9.949345775217173]\n"
          ]
        }
      ]
    },
    {
      "cell_type": "code",
      "source": [
        "#firstIndex = bins.tolist().index(6.609261377533271)\n",
        "#print(firstIndex)"
      ],
      "metadata": {
        "id": "Th3kdgypCoPp"
      },
      "execution_count": null,
      "outputs": []
    },
    {
      "cell_type": "code",
      "source": [
        "with open('/content/QCD_7.5TeV.txt') as file:\n",
        "    s = file.read()\n",
        "soup = BeautifulSoup(s, \"html.parser\")\n",
        "events = soup.findAll('event')\n",
        "\n",
        "magnitude = 2500000\n",
        "\n",
        "total = np.zeros(shape=(magnitude,13))\n",
        "\n",
        "i = 0\n",
        "\n",
        "for event in events:\n",
        "    dummy = str(event).split('\\n')\n",
        "    dummy.pop(0)\n",
        "    dummy.pop(0)\n",
        "    dummy.pop(-1)\n",
        "    dummy.pop(-1)\n",
        "    \n",
        "    for row in dummy:\n",
        "        dummy2 = [s for s in row.split('  ')]\n",
        "        total[i] = dummy2\n",
        "        i += 1\n",
        "        \n",
        "print(i)\n",
        "\n",
        "total = total[total[:,1] > 0]\n",
        "\n",
        "QCD_masses = []\n",
        "\n",
        "for k in range(len(total)):\n",
        "    if k % 2 == 0:\n",
        "        row = total[k]\n",
        "        \n",
        "        mass_1 = total[k][-3]\n",
        "        mass_2 = total[k+1][-3]\n",
        "\n",
        "        E_1 = total[k][-4]\n",
        "        E_2 = total[k+1][-4]\n",
        "\n",
        "        p_1 = np.array([total[k][6], total[k][7], total[k][8]])\n",
        "        p_2 = np.array([total[k+1][6], total[k+1][7], total[k+1][8]])\n",
        "\n",
        "        invariant_mass_squared = mass_1**2 + mass_2**2 + 2*(E_1*E_2-np.dot(p_1, p_2))\n",
        "        \n",
        "        mass = np.sqrt(invariant_mass_squared)\n",
        "\n",
        "        QCD_masses.append(mass)\n",
        "\n",
        "    else:\n",
        "        pass\n",
        "QCD_masses.sort()\n",
        "QCD_masses = np.array(QCD_masses)\n",
        "\n",
        "\n",
        "QCD_masses = QCD_masses/1000 # GeV => TeV\n",
        "\n",
        "#plt.yscale(\"log\")\n",
        "\n",
        "\n",
        "QCD_counts = plt.hist(QCD_masses, bins=bins)\n",
        "plt.ylabel(\"Number of Events\".format())\n",
        "plt.xlabel(\"Invariant Mass, m, (TeV)\".format())\n",
        "\n",
        "#plt.axvline(x=6.609261377533271, color = 'red')\n",
        "#plt.axvline(x=13, color = 'red')\n",
        "\n",
        "\n",
        "plt.title(\"Number of Events at Each Invariant Mass for 7.5 TeV String Scale , n = 120,000 \")\n",
        "\n"
      ],
      "metadata": {
        "colab": {
          "base_uri": "https://localhost:8080/",
          "height": 330
        },
        "id": "HlcrhNzpBb6C",
        "outputId": "38ca17d6-5281-4c48-f4f1-de1570dd8cc7"
      },
      "execution_count": null,
      "outputs": [
        {
          "output_type": "stream",
          "name": "stdout",
          "text": [
            "457596\n"
          ]
        },
        {
          "output_type": "execute_result",
          "data": {
            "text/plain": [
              "Text(0.5, 1.0, 'Number of Events at Each Invariant Mass for 7.5 TeV String Scale , n = 120,000 ')"
            ]
          },
          "metadata": {},
          "execution_count": 240
        },
        {
          "output_type": "display_data",
          "data": {
            "text/plain": [
              "<Figure size 432x288 with 1 Axes>"
            ],
            "image/png": "[encoded data removed]"
          },
          "metadata": {
            "needs_background": "light"
          }
        }
      ]
    },
    {
      "cell_type": "code",
      "source": [
        "with open('/content/total_7.5TeV.txt') as file:\n",
        "    s = file.read()\n",
        "soup = BeautifulSoup(s, \"html.parser\")\n",
        "events = soup.findAll('event')\n",
        "\n",
        "magnitude = 2500000\n",
        "\n",
        "total = np.zeros(shape=(magnitude,13))\n",
        "\n",
        "i = 0\n",
        "\n",
        "for event in events:\n",
        "    dummy = str(event).split('\\n')\n",
        "    dummy.pop(0)\n",
        "    dummy.pop(0)\n",
        "    dummy.pop(-1)\n",
        "    dummy.pop(-1)\n",
        "    \n",
        "    for row in dummy:\n",
        "        dummy2 = [s for s in row.split('  ')]\n",
        "        total[i] = dummy2\n",
        "        i += 1\n",
        "        \n",
        "print(i)\n",
        "\n",
        "total = total[total[:,1] > 0]\n",
        "\n",
        "total_masses = []\n",
        "\n",
        "for k in range(len(total)):\n",
        "    if k % 2 == 0:\n",
        "        row = total[k]\n",
        "        \n",
        "        mass_1 = total[k][-3]\n",
        "        mass_2 = total[k+1][-3]\n",
        "\n",
        "        E_1 = total[k][-4]\n",
        "        E_2 = total[k+1][-4]\n",
        "\n",
        "        p_1 = np.array([total[k][6], total[k][7], total[k][8]])\n",
        "        p_2 = np.array([total[k+1][6], total[k+1][7], total[k+1][8]])\n",
        "\n",
        "        invariant_mass_squared = mass_1**2 + mass_2**2 + 2*(E_1*E_2-np.dot(p_1, p_2))\n",
        "        \n",
        "        mass = np.sqrt(invariant_mass_squared)\n",
        "\n",
        "        total_masses.append(mass)\n",
        "\n",
        "    else:\n",
        "        pass\n",
        "total_masses.sort()\n",
        "total_masses = np.array(total_masses)\n",
        "\n",
        "\n",
        "total_masses = total_masses/1000 # GeV => TeV\n",
        "\n",
        "plt.yscale(\"log\")\n",
        "\n",
        "\n",
        "total_counts = plt.hist(total_masses, bins=bins)\n",
        "plt.ylabel(\"Number of Events\".format())\n",
        "plt.xlabel(\"Invariant Mass, m, (TeV)\".format())\n",
        "\n",
        "#plt.axvline(x=6.609261377533271, color = 'red')\n",
        "#plt.axvline(x=13, color = 'red')\n",
        "\n",
        "\n",
        "plt.title(\"Number of Events at Each Invariant Mass for 7.5 TeV String Scale , n = 120,000 \")\n",
        "\n"
      ],
      "metadata": {
        "colab": {
          "base_uri": "https://localhost:8080/",
          "height": 330
        },
        "id": "DqUjUEODCRkQ",
        "outputId": "37699879-140d-48ad-af91-32c31e00901a"
      },
      "execution_count": null,
      "outputs": [
        {
          "output_type": "stream",
          "name": "stdout",
          "text": [
            "465396\n"
          ]
        },
        {
          "output_type": "execute_result",
          "data": {
            "text/plain": [
              "Text(0.5, 1.0, 'Number of Events at Each Invariant Mass for 7.5 TeV String Scale , n = 120,000 ')"
            ]
          },
          "metadata": {},
          "execution_count": 241
        },
        {
          "output_type": "display_data",
          "data": {
            "text/plain": [
              "<Figure size 432x288 with 1 Axes>"
            ],
            "image/png": "[encoded data removed]"
          },
          "metadata": {
            "needs_background": "light"
          }
        }
      ]
    },
    {
      "cell_type": "code",
      "source": [
        "plt.yscale(\"log\")\n",
        "\n",
        "\n",
        "plt.hist(total_masses, bins=bins,alpha=0.5, color = 'r', label = 'Signal + QCD')\n",
        "plt.hist(QCD_masses, bins=bins, alpha = 0.5, label = 'QCD')\n",
        "#plt.hist(masses, bins=bins, alpha = 0.5)\n",
        "plt.ylabel(\"Number of Events\".format())\n",
        "plt.xlabel(\"Invariant Mass, m, (TeV)\".format())\n",
        "\n",
        "plt.legend()\n",
        "plt.show()"
      ],
      "metadata": {
        "colab": {
          "base_uri": "https://localhost:8080/",
          "height": 279
        },
        "id": "1IJ-mJ6tQPCz",
        "outputId": "16c94c0f-3981-4901-d09f-d08f0dfa2c0e"
      },
      "execution_count": null,
      "outputs": [
        {
          "output_type": "display_data",
          "data": {
            "text/plain": [
              "<Figure size 432x288 with 1 Axes>"
            ],
            "image/png": "[encoded data removed]"
          },
          "metadata": {
            "needs_background": "light"
          }
        }
      ]
    }
  ]
}